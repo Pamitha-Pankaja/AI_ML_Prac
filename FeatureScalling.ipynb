{
  "nbformat": 4,
  "nbformat_minor": 0,
  "metadata": {
    "colab": {
      "provenance": [],
      "authorship_tag": "ABX9TyP6RkzKl8Dk2C/LhiL30KFE",
      "include_colab_link": true
    },
    "kernelspec": {
      "name": "python3",
      "display_name": "Python 3"
    },
    "language_info": {
      "name": "python"
    }
  },
  "cells": [
    {
      "cell_type": "markdown",
      "metadata": {
        "id": "view-in-github",
        "colab_type": "text"
      },
      "source": [
        "<a href=\"https://colab.research.google.com/github/Pamitha-Pankaja/AI_ML_Prac/blob/main/FeatureScalling.ipynb\" target=\"_parent\"><img src=\"https://colab.research.google.com/assets/colab-badge.svg\" alt=\"Open In Colab\"/></a>"
      ]
    },
    {
      "cell_type": "code",
      "execution_count": 1,
      "metadata": {
        "id": "lNEyTxCX6moo"
      },
      "outputs": [],
      "source": [
        "import numpy as np\n",
        "data = np.array([[26,50000],\n",
        "                 [29,70000],\n",
        "                 [34,55000],\n",
        "                 [31,41000]])"
      ]
    },
    {
      "cell_type": "code",
      "source": [
        "from sklearn.preprocessing import MinMaxScaler\n",
        "scaler = MinMaxScaler()\n",
        "scaled_data = scaler.fit_transform(data)\n",
        "scaled_data"
      ],
      "metadata": {
        "colab": {
          "base_uri": "https://localhost:8080/"
        },
        "id": "C32j0WNeBO1c",
        "outputId": "97d56a22-7814-4b4d-9b85-f53aff354f35"
      },
      "execution_count": 2,
      "outputs": [
        {
          "output_type": "execute_result",
          "data": {
            "text/plain": [
              "array([[0.        , 0.31034483],\n",
              "       [0.375     , 1.        ],\n",
              "       [1.        , 0.48275862],\n",
              "       [0.625     , 0.        ]])"
            ]
          },
          "metadata": {},
          "execution_count": 2
        }
      ]
    },
    {
      "cell_type": "code",
      "source": [
        "from sklearn.preprocessing import StandardScaler\n",
        "scaler = StandardScaler()\n",
        "scaled_data = scaler.fit_transform(data)\n",
        "scaled_data"
      ],
      "metadata": {
        "colab": {
          "base_uri": "https://localhost:8080/"
        },
        "id": "oDW57rVzBnvC",
        "outputId": "dcac7936-f351-4d24-a227-d209a614aaba"
      },
      "execution_count": 3,
      "outputs": [
        {
          "output_type": "execute_result",
          "data": {
            "text/plain": [
              "array([[-1.37198868, -0.3805212 ],\n",
              "       [-0.34299717,  1.52208478],\n",
              "       [ 1.37198868,  0.0951303 ],\n",
              "       [ 0.34299717, -1.23669388]])"
            ]
          },
          "metadata": {},
          "execution_count": 3
        }
      ]
    },
    {
      "cell_type": "code",
      "source": [],
      "metadata": {
        "id": "1w-QIGCUCEpS"
      },
      "execution_count": null,
      "outputs": []
    }
  ]
}